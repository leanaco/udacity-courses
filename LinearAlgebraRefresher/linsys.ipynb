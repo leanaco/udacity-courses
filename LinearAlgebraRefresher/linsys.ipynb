{
 "cells": [
  {
   "cell_type": "code",
   "execution_count": 3,
   "metadata": {
    "collapsed": false
   },
   "outputs": [],
   "source": [
    "# for importing notebooks\n",
    "import nbimporter"
   ]
  },
  {
   "cell_type": "code",
   "execution_count": 4,
   "metadata": {
    "collapsed": false
   },
   "outputs": [
    {
     "name": "stdout",
     "output_type": "stream",
     "text": [
      "Importing Jupyter notebook from vector.ipynb\n"
     ]
    }
   ],
   "source": [
    "from vector import Vector"
   ]
  },
  {
   "cell_type": "code",
   "execution_count": 5,
   "metadata": {
    "collapsed": false
   },
   "outputs": [
    {
     "name": "stdout",
     "output_type": "stream",
     "text": [
      "Importing Jupyter notebook from plane.ipynb\n"
     ]
    }
   ],
   "source": [
    "from plane import Plane"
   ]
  },
  {
   "cell_type": "code",
   "execution_count": 6,
   "metadata": {
    "collapsed": true
   },
   "outputs": [],
   "source": [
    "from decimal import Decimal, getcontext\n",
    "from copy import deepcopy\n",
    "\n",
    "getcontext().prec = 30\n",
    "\n",
    "\n",
    "class LinearSystem(object):\n",
    "\n",
    "    ALL_PLANES_MUST_BE_IN_SAME_DIM_MSG = 'All planes in the system should live in the same dimension'\n",
    "    NO_SOLUTIONS_MSG = 'No solutions'\n",
    "    INF_SOLUTIONS_MSG = 'Infinitely many solutions'\n",
    "\n",
    "    def __init__(self, planes):\n",
    "        try:\n",
    "            d = planes[0].dimension\n",
    "            for p in planes:\n",
    "                assert p.dimension == d\n",
    "\n",
    "            self.planes = planes\n",
    "            self.dimension = d\n",
    "\n",
    "        except AssertionError:\n",
    "            raise Exception(self.ALL_PLANES_MUST_BE_IN_SAME_DIM_MSG)\n",
    "\n",
    "\n",
    "    def swap_rows(self, row1, row2):\n",
    "        self[row1], self[row2] = self[row2], self [row1]\n",
    "\n",
    "\n",
    "    def multiply_coefficient_and_row(self, coefficient, row):\n",
    "        n = self[row].normal_vector\n",
    "        c = self[row].constant_term\n",
    "        self[row] = Plane(n.scalar_mul(coefficient), c*coefficient)\n",
    "\n",
    "\n",
    "    def add_multiple_times_row_to_row(self, coefficient, row_to_add, row_to_be_added_to):\n",
    "        n1 = self[row_to_add].normal_vector\n",
    "        n2 = self[row_to_be_added_to].normal_vector\n",
    "        c1 = self[row_to_add].constant_term\n",
    "        c2 = self[row_to_be_added_to].constant_term\n",
    "        \n",
    "        new_n = n2 + Vector(n1.scalar_mul(coefficient))\n",
    "        new_c = c2 + c1*coefficient\n",
    "        \n",
    "        self[row_to_be_added_to] = Plane(new_n, new_c)\n",
    "        \n",
    "        \n",
    "        \n",
    "#     def find_nonzero_row():\n",
    "        \n",
    "        \n",
    "#     def clear_terms(self, variable, row):\n",
    "        \n",
    "        \n",
    "    def compute_triangular_form(self):\n",
    "        system = deepcopy(self)\n",
    "        \n",
    "        m = len(system)\n",
    "        n = 3\n",
    "        j = 0\n",
    "        \n",
    "#         for i in range(0,m):\n",
    "#             while j < n:\n",
    "#                 c = system[i].normal_vector.coordinates[j]\n",
    "#                 if c == 0 :\n",
    "#                     # if there is a row under row i with non-zero coeffs for var j\n",
    "#                         # system.swap_rows(i, row2)\n",
    "#                     # else\n",
    "#                         # j = j+1\n",
    "                \n",
    "#                 # Clear all terms with var j below row i\n",
    "#                 j = j+1\n",
    "#                 break\n",
    "        \n",
    "        return system\n",
    "        \n",
    "\n",
    "    def indices_of_first_nonzero_terms_in_each_row(self):\n",
    "        num_equations = len(self)\n",
    "        num_variables = self.dimension\n",
    "\n",
    "        indices = [-1] * num_equations\n",
    "\n",
    "        for i,p in enumerate(self.planes):\n",
    "            try:\n",
    "                indices[i] = p.first_nonzero_index(p.normal_vector.coordinates)\n",
    "            except Exception as e:\n",
    "                if str(e) == Plane.NO_NONZERO_ELTS_FOUND_MSG:\n",
    "                    continue\n",
    "                else:\n",
    "                    raise e\n",
    "\n",
    "        return indices\n",
    "\n",
    "\n",
    "    def __len__(self):\n",
    "        return len(self.planes)\n",
    "\n",
    "\n",
    "    def __getitem__(self, i):\n",
    "        return self.planes[i]\n",
    "\n",
    "\n",
    "    def __setitem__(self, i, x):\n",
    "        try:\n",
    "            assert x.dimension == self.dimension\n",
    "            self.planes[i] = x\n",
    "\n",
    "        except AssertionError:\n",
    "            raise Exception(self.ALL_PLANES_MUST_BE_IN_SAME_DIM_MSG)\n",
    "\n",
    "\n",
    "    def __str__(self):\n",
    "        ret = 'Linear System:\\n'\n",
    "        temp = ['Equation {}: {}'.format(i+1,p) for i,p in enumerate(self.planes)]\n",
    "        ret += '\\n'.join(temp)\n",
    "        return ret\n",
    "\n",
    "\n",
    "class MyDecimal(Decimal):\n",
    "    def is_near_zero(self, eps=1e-10):\n",
    "        return abs(self) < eps\n"
   ]
  },
  {
   "cell_type": "code",
   "execution_count": 7,
   "metadata": {
    "collapsed": true
   },
   "outputs": [],
   "source": [
    "p0 = Plane([1,1,1], 1)\n",
    "p1 = Plane([0,1,0], 2)\n",
    "p2 = Plane([1,1,-1], 3)\n",
    "p3 = Plane([1,0,-2], 2)\n",
    "\n",
    "s = LinearSystem([p0,p1,p2,p3])\n",
    "s.swap_rows(0,1)\n",
    "if not (s[0] == p1 and s[1] == p0 and s[2] == p2 and s[3] == p3):\n",
    "    print('test case 1 failed')\n",
    "\n",
    "s.swap_rows(1,3)\n",
    "if not (s[0] == p1 and s[1] == p3 and s[2] == p2 and s[3] == p0):\n",
    "    print('test case 2 failed')\n",
    "\n",
    "s.swap_rows(3,1)\n",
    "if not (s[0] == p1 and s[1] == p0 and s[2] == p2 and s[3] == p3):\n",
    "    print('test case 3 failed')\n",
    "\n",
    "s.multiply_coefficient_and_row(1,0)\n",
    "if not (s[0] == p1 and s[1] == p0 and s[2] == p2 and s[3] == p3):\n",
    "    print('test case 4 failed')\n",
    "\n",
    "s.multiply_coefficient_and_row(-1,2)\n",
    "if not (s[0] == p1 and\n",
    "        s[1] == p0 and\n",
    "        s[2] == Plane([-1,-1,1], -3) and\n",
    "        s[3] == p3):\n",
    "    print('test case 5 failed')\n",
    "\n",
    "s.multiply_coefficient_and_row(10,1)\n",
    "if not (s[0] == p1 and\n",
    "        s[1] == Plane([10,10,10], 10) and\n",
    "        s[2] == Plane([-1,-1,1], -3) and\n",
    "        s[3] == p3):\n",
    "    print('test case 6 failed')\n",
    "\n",
    "s.add_multiple_times_row_to_row(0,0,1)\n",
    "if not (s[0] == p1 and\n",
    "        s[1] == Plane([10,10,10], 10) and\n",
    "        s[2] == Plane([-1,-1,1], -3) and\n",
    "        s[3] == p3):\n",
    "    print('test case 7 failed')\n",
    "\n",
    "s.add_multiple_times_row_to_row(1,0,1)\n",
    "if not (s[0] == p1 and\n",
    "        s[1] == Plane([10,11,10], 12) and\n",
    "        s[2] == Plane([-1,-1,1], -3) and\n",
    "        s[3] == p3):\n",
    "    print('test case 8 failed')\n",
    "\n",
    "s.add_multiple_times_row_to_row(-1,1,0)\n",
    "if not (s[0] == Plane([-10,-10,-10], -10) and\n",
    "        s[1] == Plane([10,11,10], 12) and\n",
    "        s[2] == Plane([-1,-1,1], -3) and\n",
    "        s[3] == p3):\n",
    "    print('test case 9 failed')"
   ]
  },
  {
   "cell_type": "code",
   "execution_count": 8,
   "metadata": {
    "collapsed": false
   },
   "outputs": [
    {
     "name": "stdout",
     "output_type": "stream",
     "text": [
      "Linear System:\n",
      "Equation 1: -10x_1 - 10x_2 - 10x_3 = -10\n",
      "Equation 2: 10x_1 + 11x_2 + 10x_3 = 12\n",
      "Equation 3: -x_1 - x_2 + x_3 = -3\n",
      "Equation 4: x_1 - 2x_3 = 2\n",
      "[0, 0, 0, 0]\n"
     ]
    }
   ],
   "source": [
    "print(s)\n",
    "\n",
    "print(s.indices_of_first_nonzero_terms_in_each_row())\n"
   ]
  },
  {
   "cell_type": "code",
   "execution_count": 9,
   "metadata": {
    "collapsed": false
   },
   "outputs": [
    {
     "name": "stdout",
     "output_type": "stream",
     "text": [
      "Linear System:\n",
      "Equation 1: x_1 + x_2 + x_3 = 1\n",
      "Equation 2: x_2 + x_3 = 2\n",
      "Linear System:\n",
      "Equation 1: x_1 + x_2 + x_3 = 1\n",
      "Equation 2: x_2 + x_3 = 2\n",
      "test case 2 failed\n",
      "test case 3 failed\n",
      "test case 4 failed\n"
     ]
    }
   ],
   "source": [
    "p1 = Plane([1,1,1], 1)\n",
    "p2 = Plane([0,1,1], 2)\n",
    "s = LinearSystem([p1,p2])\n",
    "t = s.compute_triangular_form()\n",
    "print(s)\n",
    "print(t)\n",
    "if not (t[0] == p1 and\n",
    "        t[1] == p2):\n",
    "    print('test case 1 failed')\n",
    "    \n",
    "p1 = Plane([1,1,1], 1)\n",
    "p2 = Plane([1,1,1], 2)\n",
    "s = LinearSystem([p1,p2])\n",
    "t = s.compute_triangular_form()\n",
    "if not (t[0] == p1 and\n",
    "        t[1] == Plane(constant_term=1)):\n",
    "    print('test case 2 failed')\n",
    "\n",
    "p1 = Plane([1,1,1], 1)\n",
    "p2 = Plane([0,1,0], 2)\n",
    "p3 = Plane([1,1,-1], 3)\n",
    "p4 = Plane([1,0,-2], 2)\n",
    "s = LinearSystem([p1,p2,p3,p4])\n",
    "t = s.compute_triangular_form()\n",
    "if not (t[0] == p1 and\n",
    "        t[1] == p2 and\n",
    "        t[2] == Plane([0,0,-2], 2) and\n",
    "        t[3] == Plane()):\n",
    "    print('test case 3 failed')\n",
    "\n",
    "p1 = Plane([0,1,1], 1)\n",
    "p2 = Plane([1,-1,1], 2)\n",
    "p3 = Plane([1,2,-5], 3)\n",
    "s = LinearSystem([p1,p2,p3])\n",
    "t = s.compute_triangular_form()\n",
    "if not (t[0] == Plane([1,-1,1], 2) and\n",
    "        t[1] == Plane([0,1,1], 1) and\n",
    "        t[2] == Plane([0,0,-9], -2)):\n",
    "    print('test case 4 failed')"
   ]
  },
  {
   "cell_type": "code",
   "execution_count": null,
   "metadata": {
    "collapsed": true
   },
   "outputs": [],
   "source": []
  }
 ],
 "metadata": {
  "anaconda-cloud": {},
  "kernelspec": {
   "display_name": "Python [default]",
   "language": "python",
   "name": "python3"
  },
  "language_info": {
   "codemirror_mode": {
    "name": "ipython",
    "version": 3
   },
   "file_extension": ".py",
   "mimetype": "text/x-python",
   "name": "python",
   "nbconvert_exporter": "python",
   "pygments_lexer": "ipython3",
   "version": "3.5.2"
  }
 },
 "nbformat": 4,
 "nbformat_minor": 2
}
