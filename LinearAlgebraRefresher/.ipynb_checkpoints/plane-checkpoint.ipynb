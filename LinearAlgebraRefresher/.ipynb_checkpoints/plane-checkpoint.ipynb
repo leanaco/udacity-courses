{
 "cells": [
  {
   "cell_type": "code",
   "execution_count": 1,
   "metadata": {
    "collapsed": true
   },
   "outputs": [],
   "source": [
    "# for importing notebooks\n",
    "import nbimporter"
   ]
  },
  {
   "cell_type": "code",
   "execution_count": 2,
   "metadata": {},
   "outputs": [
    {
     "name": "stdout",
     "output_type": "stream",
     "text": [
      "Importing Jupyter notebook from vector.ipynb\n"
     ]
    }
   ],
   "source": [
    "# import the vector class\n",
    "from vector import Vector"
   ]
  },
  {
   "cell_type": "code",
   "execution_count": 19,
   "metadata": {
    "collapsed": true
   },
   "outputs": [],
   "source": [
    "from decimal import Decimal, getcontext\n",
    "\n",
    "getcontext().prec = 30\n",
    "\n",
    "class Plane(object):\n",
    "\n",
    "    NO_NONZERO_ELTS_FOUND_MSG = 'No nonzero elements found'\n",
    "\n",
    "    def __init__(self, normal_vector=None, constant_term=None):\n",
    "        self.dimension = 3\n",
    "        \n",
    "        if not normal_vector:\n",
    "            all_zeros = [0]*self.dimension\n",
    "            normal_vector = all_zeros\n",
    "        \n",
    "        self.normal_vector = Vector(normal_vector)\n",
    "\n",
    "        if not constant_term:\n",
    "            constant_term = 0\n",
    "        self.constant_term = constant_term\n",
    "\n",
    "        self.set_basepoint()\n",
    "\n",
    "    def set_basepoint(self):\n",
    "        try:\n",
    "            n = self.normal_vector.coordinates\n",
    "            c = self.constant_term\n",
    "            basepoint_coords = [0]*self.dimension\n",
    "\n",
    "            initial_index = Plane.first_nonzero_index(n)\n",
    "            initial_coefficient = n[initial_index]\n",
    "\n",
    "            basepoint_coords[initial_index] = c/initial_coefficient\n",
    "            self.basepoint = Vector(basepoint_coords)\n",
    "\n",
    "        except Exception as e:\n",
    "            if str(e) == Plane.NO_NONZERO_ELTS_FOUND_MSG:\n",
    "                self.basepoint = None\n",
    "            else:\n",
    "                raise e\n",
    "\n",
    "\n",
    "    def __str__(self):\n",
    "\n",
    "        num_decimal_places = 3\n",
    "\n",
    "        def write_coefficient(coefficient, is_initial_term=False):\n",
    "            coefficient = round(coefficient, num_decimal_places)\n",
    "            if coefficient % 1 == 0:\n",
    "                coefficient = int(coefficient)\n",
    "\n",
    "            output = ''\n",
    "\n",
    "            if coefficient < 0:\n",
    "                output += '-'\n",
    "            if coefficient > 0 and not is_initial_term:\n",
    "                output += '+'\n",
    "\n",
    "            if not is_initial_term:\n",
    "                output += ' '\n",
    "\n",
    "            if abs(coefficient) != 1:\n",
    "                output += '{}'.format(abs(coefficient))\n",
    "\n",
    "            return output\n",
    "\n",
    "        n = self.normal_vector.coordinates\n",
    "\n",
    "        try:\n",
    "            initial_index = Plane.first_nonzero_index(n)\n",
    "            terms = [write_coefficient(n[i], is_initial_term=(i==initial_index)) + 'x_{}'.format(i+1)\n",
    "                     for i in range(self.dimension) if round(n[i], num_decimal_places) != 0]\n",
    "            output = ' '.join(terms)\n",
    "\n",
    "        except Exception as e:\n",
    "            if str(e) == self.NO_NONZERO_ELTS_FOUND_MSG:\n",
    "                output = '0'\n",
    "            else:\n",
    "                raise e\n",
    "\n",
    "        constant = round(self.constant_term, num_decimal_places)\n",
    "        if constant % 1 == 0:\n",
    "            constant = int(constant)\n",
    "        output += ' = {}'.format(constant)\n",
    "\n",
    "        return output\n",
    "\n",
    "\n",
    "    @staticmethod\n",
    "    def first_nonzero_index(iterable):\n",
    "        for k, item in enumerate(iterable):\n",
    "            if not MyDecimal(item).is_near_zero():\n",
    "                return k\n",
    "        raise Exception(Plane.NO_NONZERO_ELTS_FOUND_MSG)\n",
    "        \n",
    "    def is_parallel_to(self, p):\n",
    "        # parallel planes have parallel normal vectors\n",
    "        n1 = self.normal_vector\n",
    "        n2 = p.normal_vector\n",
    "        \n",
    "        return n1.parallel(n2)\n",
    "    \n",
    "    def __eq__(self, p):\n",
    "        if self.normal_vector.is_zero() :\n",
    "            if not p.normal_vector.is_zero():\n",
    "                return False\n",
    "            else:\n",
    "                diff = self.constant_term - p.constant_term\n",
    "                return MyDecimal(diff).is_near_zero()\n",
    "        elif p.normal_vector.is_zero():\n",
    "            return False\n",
    "        \n",
    "        if not self.is_parallel_to(p):\n",
    "            return False\n",
    "\n",
    "        x = self.basepoint\n",
    "        y = p.basepoint\n",
    "        diff = Vector(x - y)\n",
    "        n = self.normal_vector\n",
    "\n",
    "        if diff.orthogonal(n):\n",
    "            return True\n",
    "        else:\n",
    "            return False\n",
    "\n",
    "\n",
    "class MyDecimal(Decimal):\n",
    "    def is_near_zero(self, eps=1e-10):\n",
    "        return abs(self) < eps"
   ]
  },
  {
   "cell_type": "code",
   "execution_count": 20,
   "metadata": {},
   "outputs": [
    {
     "name": "stdout",
     "output_type": "stream",
     "text": [
      "Are p1 and p2 parallel:  True\n",
      "Are p1 and p2 equal:  True\n",
      "Are p3 and p4 parallel:  False\n",
      "Are p1 and p2 equal:  False\n",
      "Are p5 and p6 parallel:  True\n",
      "Are p1 and p2 equal:  False\n"
     ]
    }
   ],
   "source": [
    "# Quiz: Planes in 3 Dimensions\n",
    "p1 = Plane([-0.412, 3.806, 0.728], -3.46)\n",
    "p2 = Plane([1.03, -9.515, -1.82], 8.65)\n",
    "p3 = Plane([2.611, 5.528, 0.283], 4.6)\n",
    "p4 = Plane([7.715, 8.306, 5.342], 3.76)\n",
    "p5 = Plane([-7.926, 8.625, -7.212], -7.952)\n",
    "p6 = Plane([-2.642, 2.875, -2.404], -2.443)\n",
    "\n",
    "print('Are p1 and p2 parallel: ', p1.is_parallel_to(p2))\n",
    "print('Are p1 and p2 equal: ', p1 == p2)\n",
    "\n",
    "print('Are p3 and p4 parallel: ',p3.is_parallel_to(p4))\n",
    "print('Are p1 and p2 equal: ', p3 == p4)\n",
    "\n",
    "print('Are p5 and p6 parallel: ',p5.is_parallel_to(p6))\n",
    "print('Are p1 and p2 equal: ', p5 == p6)"
   ]
  },
  {
   "cell_type": "code",
   "execution_count": null,
   "metadata": {
    "collapsed": true
   },
   "outputs": [],
   "source": []
  }
 ],
 "metadata": {
  "kernelspec": {
   "display_name": "Python 3",
   "language": "python",
   "name": "python3"
  },
  "language_info": {
   "codemirror_mode": {
    "name": "ipython",
    "version": 3
   },
   "file_extension": ".py",
   "mimetype": "text/x-python",
   "name": "python",
   "nbconvert_exporter": "python",
   "pygments_lexer": "ipython3",
   "version": "3.6.2"
  }
 },
 "nbformat": 4,
 "nbformat_minor": 1
}
