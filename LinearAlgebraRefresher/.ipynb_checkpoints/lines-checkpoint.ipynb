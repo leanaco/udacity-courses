{
 "cells": [
  {
   "cell_type": "code",
   "execution_count": 1,
   "metadata": {
    "collapsed": true
   },
   "outputs": [],
   "source": [
    "# for importing notebooks\n",
    "import nbimporter"
   ]
  },
  {
   "cell_type": "code",
   "execution_count": 8,
   "metadata": {
    "collapsed": true
   },
   "outputs": [],
   "source": [
    "# import the vector class\n",
    "from vector import Vector"
   ]
  },
  {
   "cell_type": "code",
   "execution_count": 16,
   "metadata": {
    "collapsed": true
   },
   "outputs": [],
   "source": [
    "from decimal import Decimal, getcontext\n",
    "\n",
    "getcontext().prec = 30\n",
    "\n",
    "class Line(object):\n",
    "\n",
    "    NO_NONZERO_ELTS_FOUND_MSG = 'No nonzero elements found'\n",
    "\n",
    "    def __init__(self, normal_vector=None, constant_term=None):\n",
    "        self.dimension = 2\n",
    "\n",
    "        if not normal_vector:\n",
    "            all_zeros = [0]*self.dimension\n",
    "            normal_vector = Vector(all_zeros)\n",
    "        self.normal_vector = Vector(normal_vector)\n",
    "\n",
    "        if not constant_term:\n",
    "            constant_term = 0\n",
    "        self.constant_term = constant_term\n",
    "\n",
    "        self.set_basepoint()\n",
    "\n",
    "    def set_basepoint(self):\n",
    "        try:\n",
    "            n = self.normal_vector.coordinates\n",
    "            c = self.constant_term\n",
    "            basepoint_coords = [0]*self.dimension\n",
    "\n",
    "            initial_index = Line.first_nonzero_index(n)\n",
    "            initial_coefficient = n[initial_index]\n",
    "\n",
    "            basepoint_coords[initial_index] = c/initial_coefficient\n",
    "            self.basepoint = Vector(basepoint_coords)\n",
    "\n",
    "        except Exception as e:\n",
    "            if str(e) == Line.NO_NONZERO_ELTS_FOUND_MSG:\n",
    "                self.basepoint = None\n",
    "            else:\n",
    "                raise e\n",
    "\n",
    "\n",
    "    def __str__(self):\n",
    "\n",
    "        num_decimal_places = 3\n",
    "\n",
    "        def write_coefficient(coefficient, is_initial_term=False):\n",
    "            coefficient = round(coefficient, num_decimal_places)\n",
    "            if coefficient % 1 == 0:\n",
    "                coefficient = int(coefficient)\n",
    "\n",
    "            output = ''\n",
    "\n",
    "            if coefficient < 0:\n",
    "                output += '-'\n",
    "            if coefficient > 0 and not is_initial_term:\n",
    "                output += '+'\n",
    "\n",
    "            if not is_initial_term:\n",
    "                output += ' '\n",
    "\n",
    "            if abs(coefficient) != 1:\n",
    "                output += '{}'.format(abs(coefficient))\n",
    "\n",
    "            return output\n",
    "\n",
    "        n = self.normal_vector.coordinates\n",
    "\n",
    "        try:\n",
    "            initial_index = Line.first_nonzero_index(n)\n",
    "            terms = [write_coefficient(n[i], is_initial_term=(i==initial_index)) + 'x_{}'.format(i+1)\n",
    "                     for i in range(self.dimension) if round(n[i], num_decimal_places) != 0]\n",
    "            output = ' '.join(terms)\n",
    "\n",
    "        except Exception as e:\n",
    "            if str(e) == self.NO_NONZERO_ELTS_FOUND_MSG:\n",
    "                output = '0'\n",
    "            else:\n",
    "                raise e\n",
    "\n",
    "        constant = round(self.constant_term, num_decimal_places)\n",
    "        if constant % 1 == 0:\n",
    "            constant = int(constant)\n",
    "        output += ' = {}'.format(constant)\n",
    "\n",
    "        return output\n",
    "    \n",
    "    \n",
    "    def intersection(self, l):\n",
    "        n1 = self.normal_vector\n",
    "        n2 = l.normal_vector\n",
    "        # first check if the lines are parallel\n",
    "        if n1.parallel(n2):\n",
    "            # then lines are parallel, check if they are the same line\n",
    "            x = self.basepoint\n",
    "            y = l.basepoint\n",
    "            diff = Vector(x - y)\n",
    "            \n",
    "            if diff.orthogonal(n1):\n",
    "                return self\n",
    "            return None\n",
    "        \n",
    "        # if they aren't parallel, find intersection point\n",
    "        A, B = self.normal_vector.coordinates\n",
    "        C, D = l.normal_vector.coordinates\n",
    "        k1 = self.constant_term\n",
    "        k2 = l.constant_term\n",
    "        x = (D*k1 - B*k2)/(A*D - B*C)\n",
    "        y = (-C*k1 + A*k2)/(A*D - B*C)\n",
    "        return (x,y)\n",
    "            \n",
    "\n",
    "    @staticmethod\n",
    "    def first_nonzero_index(iterable):\n",
    "        for k, item in enumerate(iterable):\n",
    "            if not MyDecimal(item).is_near_zero():\n",
    "                return k\n",
    "        raise Exception(Line.NO_NONZERO_ELTS_FOUND_MSG)\n",
    "\n",
    "\n",
    "class MyDecimal(Decimal):\n",
    "    def is_near_zero(self, eps=1e-10):\n",
    "        return abs(self) < eps"
   ]
  },
  {
   "cell_type": "code",
   "execution_count": 22,
   "metadata": {},
   "outputs": [
    {
     "name": "stdout",
     "output_type": "stream",
     "text": [
      "Intersection of l1 and l2:  4.046x_1 + 2.836x_2 = 1.21\n"
     ]
    }
   ],
   "source": [
    "# Quiz: Coding Functions for Lines\n",
    "# 1\n",
    "l1 = Line([4.046,2.836], 1.21)\n",
    "l2 = Line([10.115, 7.09], 3.025)\n",
    "print('Intersection of l1 and l2: ', l1.intersection(l2))"
   ]
  },
  {
   "cell_type": "code",
   "execution_count": 24,
   "metadata": {},
   "outputs": [
    {
     "name": "stdout",
     "output_type": "stream",
     "text": [
      "Intersection of l3 and l4:  (1.1727766354646414, 0.07269551166333184)\n"
     ]
    }
   ],
   "source": [
    "# 2\n",
    "l3 = Line([7.204, 3.182], 8.68)\n",
    "l4 = Line([8.172, 4.114], 9.883)\n",
    "print('Intersection of l3 and l4: ', l3.intersection(l4))"
   ]
  },
  {
   "cell_type": "code",
   "execution_count": 26,
   "metadata": {},
   "outputs": [
    {
     "name": "stdout",
     "output_type": "stream",
     "text": [
      "Intersection of l5 and l6:  None\n"
     ]
    }
   ],
   "source": [
    "# 2\n",
    "l5 = Line([1.182, 5.562], 6.744)\n",
    "l6 = Line([1.773, 8.343], 9.525)\n",
    "print('Intersection of l5 and l6: ', l5.intersection(l6))"
   ]
  },
  {
   "cell_type": "code",
   "execution_count": null,
   "metadata": {
    "collapsed": true
   },
   "outputs": [],
   "source": []
  }
 ],
 "metadata": {
  "anaconda-cloud": {},
  "kernelspec": {
   "display_name": "Python 3",
   "language": "python",
   "name": "python3"
  },
  "language_info": {
   "codemirror_mode": {
    "name": "ipython",
    "version": 3
   },
   "file_extension": ".py",
   "mimetype": "text/x-python",
   "name": "python",
   "nbconvert_exporter": "python",
   "pygments_lexer": "ipython3",
   "version": "3.6.2"
  }
 },
 "nbformat": 4,
 "nbformat_minor": 1
}
