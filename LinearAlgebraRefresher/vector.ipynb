{
 "cells": [
  {
   "cell_type": "code",
   "execution_count": 1,
   "metadata": {},
   "outputs": [
    {
     "ename": "ModuleNotFoundError",
     "evalue": "No module named 'numpy'",
     "output_type": "error",
     "traceback": [
      "\u001b[0;31m---------------------------------------------------------------------------\u001b[0m",
      "\u001b[0;31mModuleNotFoundError\u001b[0m                       Traceback (most recent call last)",
      "\u001b[0;32m<ipython-input-1-db1eea034038>\u001b[0m in \u001b[0;36m<module>\u001b[0;34m()\u001b[0m\n\u001b[1;32m      1\u001b[0m \u001b[0;31m# Vector class\u001b[0m\u001b[0;34m\u001b[0m\u001b[0;34m\u001b[0m\u001b[0m\n\u001b[1;32m      2\u001b[0m \u001b[0;34m\u001b[0m\u001b[0m\n\u001b[0;32m----> 3\u001b[0;31m \u001b[0;32mimport\u001b[0m \u001b[0mnumpy\u001b[0m \u001b[0;32mas\u001b[0m \u001b[0mnp\u001b[0m\u001b[0;34m\u001b[0m\u001b[0m\n\u001b[0m\u001b[1;32m      4\u001b[0m \u001b[0;32mimport\u001b[0m \u001b[0mmath\u001b[0m\u001b[0;34m\u001b[0m\u001b[0m\n\u001b[1;32m      5\u001b[0m \u001b[0;34m\u001b[0m\u001b[0m\n",
      "\u001b[0;31mModuleNotFoundError\u001b[0m: No module named 'numpy'"
     ]
    }
   ],
   "source": [
    "# Vector class\n",
    "\n",
    "import numpy as np\n",
    "import math\n",
    "\n",
    "class Vector(object):\n",
    "    \n",
    "    CANNOT_NORMALISE_ZERO_VECTOR_MSG = 'Cannot normalise the zero vector'\n",
    "    \n",
    "    def __init__(self, coordinates):\n",
    "        try:\n",
    "            if not coordinates:\n",
    "                raise ValueError\n",
    "            self.coordinates = tuple(coordinates)\n",
    "            self.dimension = len(coordinates)\n",
    "\n",
    "        except ValueError:\n",
    "            raise ValueError('The coordinates must be nonempty')\n",
    "\n",
    "        except TypeError:\n",
    "            raise TypeError('The coordinates must be an iterable')\n",
    "\n",
    "\n",
    "    def __str__(self):\n",
    "        return 'Vector: {}'.format(self.coordinates)\n",
    "\n",
    "\n",
    "    def __eq__(self, v):\n",
    "        return self.coordinates == v.coordinates\n",
    "    \n",
    "    def __add__(self, v):\n",
    "        return [x + y for x, y in zip(self.coordinates, v.coordinates)]\n",
    "        \n",
    "    def __sub__(self, v):\n",
    "        return [x - y for x, y in zip(self.coordinates, v.coordinates)]\n",
    "    \n",
    "    def scalar_mul(self, s):\n",
    "        return [s*x for x in self.coordinates]\n",
    "    \n",
    "    def magnitude(self):\n",
    "        return sum([x**2 for x in self.coordinates])**(.5)\n",
    "    \n",
    "    def normalise(self):\n",
    "        try :\n",
    "            return [(1./self.magnitude())*x for x in self.coordinates]\n",
    "        except ZeroDivisionError:\n",
    "            raise Exception('Cannot normalise zero vector')\n",
    "        \n",
    "    def dot(self, v):\n",
    "        return sum([x*y for x, y in zip(self.coordinates, v.coordinates)])\n",
    "    \n",
    "    def angle(self, v, in_degrees=False):\n",
    "        if in_degrees:\n",
    "            return math.degrees(np.arccos(round(self.dot(v)/(self.magnitude() * v.magnitude()),10)))\n",
    "        else:    \n",
    "            return np.arccos(round(self.dot(v)/(self.magnitude() * v.magnitude()),10))\n",
    "\n",
    "    def orthogonal(self, v, tolerance=1e-10):\n",
    "        return abs(self.dot(v)) < tolerance\n",
    "\n",
    "    def is_zero(self, tolerance=1e-10):\n",
    "        return self.magnitude() < tolerance\n",
    "\n",
    "    def parallel(self, v):\n",
    "        return (self.is_zero() or v.is_zero() or self.angle(v)==0 or self.angle(v)==math.pi)\n",
    "    \n",
    "    def projection(self, b):\n",
    "        return Vector(b.normalise()).scalar_mul(self.dot(Vector(b.normalise())))\n",
    "    \n",
    "    def component_orthogonal_to(self, b):\n",
    "        projection = Vector(self.projection(b))\n",
    "        return self - projection\n",
    "    \n",
    "    def cross_product(self, v):\n",
    "        a = self.coordinates\n",
    "        b = v.coordinates    \n",
    "        if  self.dimension == 2 and v.dimension == 2:\n",
    "            # add 0 for the z dimension\n",
    "            a = a + (0,)\n",
    "            b = b + (0,)\n",
    "        \n",
    "        return [ a[1]*b[2] - b[1]*a[2], -(a[0]*b[2] - b[0]*a[2]), a[0]*b[1] - b[0]*a[1] ]\n",
    "    \n",
    "    def parallelogram_area(self, v):\n",
    "        return sum([ x**2 for x in self.cross_product(v)])**(1./2)\n",
    "    \n",
    "    def triangle_area(self, v):\n",
    "        return self.parallelogram_area(v)*(1./2)\n",
    "               "
   ]
  },
  {
   "cell_type": "code",
   "execution_count": null,
   "metadata": {
    "collapsed": true
   },
   "outputs": [],
   "source": [
    "my_vector = Vector([1,2,3])\n",
    "\n",
    "print my_vector"
   ]
  }
 ],
 "metadata": {
  "kernelspec": {
   "display_name": "Python 3",
   "language": "python",
   "name": "python3"
  },
  "language_info": {
   "codemirror_mode": {
    "name": "ipython",
    "version": 3
   },
   "file_extension": ".py",
   "mimetype": "text/x-python",
   "name": "python",
   "nbconvert_exporter": "python",
   "pygments_lexer": "ipython3",
   "version": "3.6.0"
  }
 },
 "nbformat": 4,
 "nbformat_minor": 2
}
