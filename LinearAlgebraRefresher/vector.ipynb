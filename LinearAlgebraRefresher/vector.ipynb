{
 "cells": [
  {
   "cell_type": "code",
   "execution_count": 1,
   "metadata": {
    "collapsed": false
   },
   "outputs": [],
   "source": [
    "# Vector class\n",
    "\n",
    "import numpy as np\n",
    "import math\n",
    "\n",
    "class Vector(object):\n",
    "    \n",
    "    CANNOT_NORMALISE_ZERO_VECTOR_MSG = 'Cannot normalise the zero vector'\n",
    "    \n",
    "    def __init__(self, coordinates):\n",
    "        try:\n",
    "            if not coordinates:\n",
    "                raise ValueError\n",
    "            self.coordinates = tuple(coordinates)\n",
    "            self.dimension = len(coordinates)\n",
    "\n",
    "        except ValueError:\n",
    "            raise ValueError('The coordinates must be nonempty')\n",
    "\n",
    "        except TypeError:\n",
    "            raise TypeError('The coordinates must be an iterable')\n",
    "\n",
    "\n",
    "    def __str__(self):\n",
    "        return 'Vector: {}'.format(self.coordinates)\n",
    "\n",
    "    def __eq__(self, v):\n",
    "        return self.coordinates == v.coordinates\n",
    "    \n",
    "    def __add__(self, v):\n",
    "        return [x + y for x, y in zip(self.coordinates, v.coordinates)]\n",
    "        \n",
    "    def __sub__(self, v):\n",
    "        return [x - y for x, y in zip(self.coordinates, v.coordinates)]\n",
    "    \n",
    "    def scalar_mul(self, s):\n",
    "        return [s*x for x in self.coordinates]\n",
    "    \n",
    "    def magnitude(self):\n",
    "        return sum([x**2 for x in self.coordinates])**(.5)\n",
    "    \n",
    "    def normalise(self):\n",
    "        try :\n",
    "            return [(1./self.magnitude())*x for x in self.coordinates]\n",
    "        except ZeroDivisionError:\n",
    "            raise Exception('Cannot normalise zero vector')\n",
    "        \n",
    "    def dot(self, v):\n",
    "        return sum([x*y for x, y in zip(self.coordinates, v.coordinates)])\n",
    "    \n",
    "    def angle(self, v, in_degrees=False):\n",
    "        if in_degrees:\n",
    "            return math.degrees(np.arccos(round(self.dot(v)/(self.magnitude() * v.magnitude()),10)))\n",
    "        else:    \n",
    "            return np.arccos(round(self.dot(v)/(self.magnitude() * v.magnitude()),10))\n",
    "\n",
    "    def orthogonal(self, v, tolerance=1e-10):\n",
    "        return abs(self.dot(v)) < tolerance\n",
    "\n",
    "    def is_zero(self, tolerance=1e-10):\n",
    "        return self.magnitude() < tolerance\n",
    "\n",
    "    def parallel(self, v):\n",
    "        return (self.is_zero() or v.is_zero() or self.angle(v)==0 or self.angle(v)==math.pi)\n",
    "    \n",
    "    def projection(self, b):\n",
    "        return Vector(b.normalise()).scalar_mul(self.dot(Vector(b.normalise())))\n",
    "    \n",
    "    def component_orthogonal_to(self, b):\n",
    "        projection = Vector(self.projection(b))\n",
    "        return self - projection\n",
    "    \n",
    "    def cross_product(self, v):\n",
    "        a = self.coordinates\n",
    "        b = v.coordinates    \n",
    "        if  self.dimension == 2 and v.dimension == 2:\n",
    "            # add 0 for the z dimension\n",
    "            a = a + (0,)\n",
    "            b = b + (0,)\n",
    "        \n",
    "        return [ a[1]*b[2] - b[1]*a[2], -(a[0]*b[2] - b[0]*a[2]), a[0]*b[1] - b[0]*a[1] ]\n",
    "    \n",
    "    def parallelogram_area(self, v):\n",
    "        return sum([ x**2 for x in self.cross_product(v)])**(1./2)\n",
    "    \n",
    "    def triangle_area(self, v):\n",
    "        return self.parallelogram_area(v)*(1./2)\n",
    "               "
   ]
  },
  {
   "cell_type": "code",
   "execution_count": 9,
   "metadata": {
    "collapsed": false
   },
   "outputs": [
    {
     "data": {
      "text/plain": [
       "[7.089, -7.229999999999999]"
      ]
     },
     "execution_count": 9,
     "metadata": {},
     "output_type": "execute_result"
    }
   ],
   "source": [
    "# Quiz: Plus, Minus, Scalar Multiply\n",
    "# 1\n",
    "Vector([8.218, -9.341]) + Vector([-1.129, 2.111])"
   ]
  },
  {
   "cell_type": "code",
   "execution_count": 10,
   "metadata": {
    "collapsed": false
   },
   "outputs": [
    {
     "data": {
      "text/plain": [
       "[15.342, 7.337]"
      ]
     },
     "execution_count": 10,
     "metadata": {},
     "output_type": "execute_result"
    }
   ],
   "source": [
    "# 2\n",
    "Vector([7.119, 8.215]) - Vector([-8.223, 0.878])"
   ]
  },
  {
   "cell_type": "code",
   "execution_count": 34,
   "metadata": {
    "collapsed": false
   },
   "outputs": [
    {
     "data": {
      "text/plain": [
       "[12.38211, -7.49892, -2.35638]"
      ]
     },
     "execution_count": 34,
     "metadata": {},
     "output_type": "execute_result"
    }
   ],
   "source": [
    "# 3\n",
    "Vector([1.671, -1.012, -0.318]).scalar_mul(7.41)"
   ]
  },
  {
   "cell_type": "code",
   "execution_count": 14,
   "metadata": {
    "collapsed": false
   },
   "outputs": [
    {
     "data": {
      "text/plain": [
       "7.440282924728065"
      ]
     },
     "execution_count": 14,
     "metadata": {},
     "output_type": "execute_result"
    }
   ],
   "source": [
    "# Quiz: Coding Magnitude and Direction\n",
    "Vector([-0.221, 7.437]).magnitude()"
   ]
  },
  {
   "cell_type": "code",
   "execution_count": 15,
   "metadata": {
    "collapsed": false
   },
   "outputs": [
    {
     "data": {
      "text/plain": [
       "10.884187567292289"
      ]
     },
     "execution_count": 15,
     "metadata": {},
     "output_type": "execute_result"
    }
   ],
   "source": [
    "Vector([8.813, -1.331, -6.247]).magnitude()"
   ]
  },
  {
   "cell_type": "code",
   "execution_count": 16,
   "metadata": {
    "collapsed": false
   },
   "outputs": [
    {
     "data": {
      "text/plain": [
       "[0.9339352140866403, -0.35744232526233]"
      ]
     },
     "execution_count": 16,
     "metadata": {},
     "output_type": "execute_result"
    }
   ],
   "source": [
    "Vector([5.581,-2.136]).normalise()"
   ]
  },
  {
   "cell_type": "code",
   "execution_count": 17,
   "metadata": {
    "collapsed": false
   },
   "outputs": [
    {
     "data": {
      "text/plain": [
       "[0.3404012959433014, 0.5300437012984873, -0.7766470449528029]"
      ]
     },
     "execution_count": 17,
     "metadata": {},
     "output_type": "execute_result"
    }
   ],
   "source": [
    "Vector([1.996, 3.108, -4.554]).normalise()"
   ]
  },
  {
   "cell_type": "code",
   "execution_count": 21,
   "metadata": {
    "collapsed": false
   },
   "outputs": [
    {
     "data": {
      "text/plain": [
       "-41.382286"
      ]
     },
     "execution_count": 21,
     "metadata": {},
     "output_type": "execute_result"
    }
   ],
   "source": [
    "# Quiz: Coding Dot Product & Angle\n",
    "Vector([7.887, 4.138]).dot(Vector([-8.802, 6.776]))"
   ]
  },
  {
   "cell_type": "code",
   "execution_count": 36,
   "metadata": {
    "collapsed": false
   },
   "outputs": [
    {
     "data": {
      "text/plain": [
       "56.397178000000004"
      ]
     },
     "execution_count": 36,
     "metadata": {},
     "output_type": "execute_result"
    }
   ],
   "source": [
    "Vector([-5.955, -4.904, -1.874]).dot(Vector([-4.496, -8.755, 7.103]))"
   ]
  },
  {
   "cell_type": "code",
   "execution_count": 22,
   "metadata": {
    "collapsed": false
   },
   "outputs": [
    {
     "data": {
      "text/plain": [
       "3.0720263097444658"
      ]
     },
     "execution_count": 22,
     "metadata": {},
     "output_type": "execute_result"
    }
   ],
   "source": [
    "# angle in radians\n",
    "Vector([3.183, -7.627]).angle(Vector([-2.668, 5.319]))"
   ]
  },
  {
   "cell_type": "code",
   "execution_count": 23,
   "metadata": {
    "collapsed": false
   },
   "outputs": [
    {
     "data": {
      "text/plain": [
       "60.27581120560713"
      ]
     },
     "execution_count": 23,
     "metadata": {},
     "output_type": "execute_result"
    }
   ],
   "source": [
    "# angle in degrees\n",
    "math.degrees(Vector([7.35, 0.221, 5.188]).angle(Vector([2.751, 8.259, 3.985])))"
   ]
  },
  {
   "cell_type": "code",
   "execution_count": 25,
   "metadata": {
    "collapsed": true
   },
   "outputs": [],
   "source": [
    "# Quiz: Checking Parallelism & Orthogonality\n",
    "v1 = Vector([-7.579, -7.88])\n",
    "v2 = Vector([-2.029, 9.97, 4.172])\n",
    "v3 = Vector([-2.328, -7.284, -1.214])\n",
    "v4 = Vector([2.118, 4.827])\n",
    "\n",
    "w1 = Vector([22.737, 23.64])\n",
    "w2 = Vector([-9.231, -6.639, -7.245])\n",
    "w3 = Vector([-1.821, 1.072, -2.94])\n",
    "w4 = Vector([0,0])"
   ]
  },
  {
   "cell_type": "code",
   "execution_count": 30,
   "metadata": {
    "collapsed": false
   },
   "outputs": [
    {
     "name": "stdout",
     "output_type": "stream",
     "text": [
      "v1 orthog to w1 : False\n",
      "v2 orthog to w2 : False\n",
      "v3 orthog to w3 : True\n",
      "v4 orthog to w4 : True\n",
      "v1 parallel to w1 : True\n",
      "v2 parallel to w2 : False\n",
      "v3 parallel to w3 : False\n",
      "v4 parallel to w4 : True\n"
     ]
    }
   ],
   "source": [
    "print('v1 orthog to w1 :', v1.orthogonal(w1))\n",
    "print('v2 orthog to w2 :', v2.orthogonal(w2))\n",
    "print('v3 orthog to w3 :', v3.orthogonal(w3))\n",
    "print('v4 orthog to w4 :', v4.orthogonal(w4))\n",
    "\n",
    "print('v1 parallel to w1 :', v1.parallel(w1))\n",
    "print('v2 parallel to w2 :', v2.parallel(w2))\n",
    "print('v3 parallel to w3 :', v3.parallel(w3))\n",
    "print('v4 parallel to w4 :', v4.parallel(w4))"
   ]
  },
  {
   "cell_type": "code",
   "execution_count": 32,
   "metadata": {
    "collapsed": true
   },
   "outputs": [],
   "source": [
    "# Quiz: Coding Vector Projections\n",
    "v1 = Vector([3.039, 1.879])\n",
    "v2 = Vector([-9.88, -3.264, -8.159])\n",
    "v3 = Vector([3.009, -6.172, 3.692, -2.51])\n",
    "\n",
    "b1 = Vector([0.825, 2.036])\n",
    "b2 = Vector([-2.155, -9.353, -9.473])\n",
    "b3 = Vector([6.404, -9.144, 2.759, 8.718])"
   ]
  },
  {
   "cell_type": "code",
   "execution_count": 33,
   "metadata": {
    "collapsed": false
   },
   "outputs": [
    {
     "data": {
      "text/plain": [
       "[1.0404838327859098,\n",
       " -3.3612392515606433,\n",
       " 2.8439150366421497,\n",
       " -5.189813233256158]"
      ]
     },
     "execution_count": 33,
     "metadata": {},
     "output_type": "execute_result"
    }
   ],
   "source": [
    "v1.projection(b1)\n",
    "v3.projection(b3)\n",
    "proj_v2 = Vector(v2.projection(b2))\n",
    "v2 - proj_v2\n",
    "proj_v3 = Vector(v3.projection(b3))\n",
    "v3 - proj_v3\n",
    "v3.component_orthogonal_to(b3)"
   ]
  },
  {
   "cell_type": "code",
   "execution_count": 37,
   "metadata": {
    "collapsed": true
   },
   "outputs": [],
   "source": [
    "# Quiz: Coding Cross Products\n",
    "v1 = Vector([8.462, 7.893, -8.187])\n",
    "v2 = Vector([-8.987, -9.838, 5.031])\n",
    "v3 = Vector([1.5, 9.547, 3.691])\n",
    "\n",
    "w1 = Vector([6.984, -5.975, 4.778])\n",
    "w2 = Vector([-4.268, -1.861, -8.866])\n",
    "w3 = Vector([-6.007, 0.124, 5.772])"
   ]
  },
  {
   "cell_type": "code",
   "execution_count": 38,
   "metadata": {
    "collapsed": false
   },
   "outputs": [
    {
     "data": {
      "text/plain": [
       "[-11.204570999999994, -97.609444, -105.68516199999999]"
      ]
     },
     "execution_count": 38,
     "metadata": {},
     "output_type": "execute_result"
    }
   ],
   "source": [
    "# cross product\n",
    "v1.cross_product(w1)"
   ]
  },
  {
   "cell_type": "code",
   "execution_count": 39,
   "metadata": {
    "collapsed": false
   },
   "outputs": [
    {
     "data": {
      "text/plain": [
       "142.12222140184633"
      ]
     },
     "execution_count": 39,
     "metadata": {},
     "output_type": "execute_result"
    }
   ],
   "source": [
    "# area of parallelogram spanned by v2 x w2\n",
    "v2.parallelogram_area(w2)"
   ]
  },
  {
   "cell_type": "code",
   "execution_count": 40,
   "metadata": {
    "collapsed": false
   },
   "outputs": [
    {
     "data": {
      "text/plain": [
       "42.56493739941894"
      ]
     },
     "execution_count": 40,
     "metadata": {},
     "output_type": "execute_result"
    }
   ],
   "source": [
    "# area of triangle spanned by v3 x w3\n",
    "v3.parallelogram_area(w3)/2"
   ]
  },
  {
   "cell_type": "code",
   "execution_count": null,
   "metadata": {
    "collapsed": true
   },
   "outputs": [],
   "source": []
  }
 ],
 "metadata": {
  "anaconda-cloud": {},
  "kernelspec": {
   "display_name": "Python [default]",
   "language": "python",
   "name": "python3"
  },
  "language_info": {
   "codemirror_mode": {
    "name": "ipython",
    "version": 3
   },
   "file_extension": ".py",
   "mimetype": "text/x-python",
   "name": "python",
   "nbconvert_exporter": "python",
   "pygments_lexer": "ipython3",
   "version": "3.5.2"
  }
 },
 "nbformat": 4,
 "nbformat_minor": 2
}
